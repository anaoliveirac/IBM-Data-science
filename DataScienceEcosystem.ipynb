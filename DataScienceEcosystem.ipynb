{
 "cells": [
  {
   "cell_type": "markdown",
   "id": "bc5978e1-f53f-4526-9013-5ad813f97110",
   "metadata": {
    "tags": []
   },
   "source": [
    "# Data Science Tools and Ecosystem"
   ]
  },
  {
   "cell_type": "markdown",
   "id": "fc068eae-4605-4562-8174-a72597df91b4",
   "metadata": {},
   "source": [
    "## In this notebook, Data Science Tools and Ecosystem are summarized."
   ]
  },
  {
   "cell_type": "markdown",
   "id": "470799d8-f93f-4082-b56a-0d2cb975ad49",
   "metadata": {},
   "source": [
    "**Objectives:** \n",
    "* List popular languages for Data Science\n",
    "* List commonly used libraries used by Data Scientists\n",
    "* Three  Data Science Tools\n",
    "* few examples of evaluating arithmetic expressions in Python\n",
    "\n",
    "## Author\n",
    "Ana Costa"
   ]
  },
  {
   "cell_type": "markdown",
   "id": "72244ede-c939-4968-93fc-204835b70e1d",
   "metadata": {},
   "source": [
    "### Some of the popular languages that Data Scientists use are: \n",
    "#### 1-Python\n",
    "#### 2-R\n",
    "#### 2-SQL"
   ]
  },
  {
   "cell_type": "markdown",
   "id": "0ddb051c-1eba-4338-894c-e334bd97c711",
   "metadata": {},
   "source": [
    "### Some of the commonly used libraries used by Data Scientists include:\n",
    "#### 1-Numpy\n",
    "#### 2-Pandas\n",
    "#### 3-Matplotlib\n",
    "#### 4-Seaborn\n",
    "#### 5-SciPy\n",
    "#### 6-Scikit-learn\n",
    "#### 7-TensorFlow\n",
    "#### 8- Keras\n",
    "#### 9-PyTorch"
   ]
  },
  {
   "cell_type": "markdown",
   "id": "a0e1cd55-9b95-4445-9f3c-f81ec7552c0f",
   "metadata": {
    "tags": []
   },
   "source": [
    "| Data Science Tools |\n",
    "|--------------------|\n",
    "| Jupyter Notebook   |\n",
    "|     rstudio       |\n",
    "|      Github        |"
   ]
  },
  {
   "cell_type": "markdown",
   "id": "7a12fa59-1fc4-4c86-aa1b-bbf1fea83f92",
   "metadata": {},
   "source": [
    "### Below are a few examples of evaluating arithmetic expressions in Python"
   ]
  },
  {
   "cell_type": "code",
   "execution_count": 2,
   "id": "e498efce-151e-4388-8a3d-128319e38955",
   "metadata": {
    "tags": []
   },
   "outputs": [
    {
     "data": {
      "text/plain": [
       "17"
      ]
     },
     "execution_count": 2,
     "metadata": {},
     "output_type": "execute_result"
    }
   ],
   "source": [
    "# This a simple arithmetic expression to mutiply then add integers\n",
    "(3*4)+5"
   ]
  },
  {
   "cell_type": "code",
   "execution_count": 5,
   "id": "8388db22-d31a-4aad-996d-7299f78f9703",
   "metadata": {
    "tags": []
   },
   "outputs": [
    {
     "data": {
      "text/plain": [
       "3.3333333333333335"
      ]
     },
     "execution_count": 5,
     "metadata": {},
     "output_type": "execute_result"
    }
   ],
   "source": [
    "# This will convert 200 minutes to hours by diving by 60\n",
    "200/60"
   ]
  },
  {
   "cell_type": "code",
   "execution_count": null,
   "id": "a2fdf65e-c113-4a8e-96a8-c815f0197997",
   "metadata": {},
   "outputs": [],
   "source": []
  }
 ],
 "metadata": {
  "kernelspec": {
   "display_name": "Python",
   "language": "python",
   "name": "conda-env-python-py"
  },
  "language_info": {
   "codemirror_mode": {
    "name": "ipython",
    "version": 3
   },
   "file_extension": ".py",
   "mimetype": "text/x-python",
   "name": "python",
   "nbconvert_exporter": "python",
   "pygments_lexer": "ipython3",
   "version": "3.7.12"
  }
 },
 "nbformat": 4,
 "nbformat_minor": 5
}
